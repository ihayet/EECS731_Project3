{
 "cells": [
  {
   "cell_type": "markdown",
   "metadata": {
    "id": "DwC-9dbkDj7n"
   },
   "source": [
    "# **Project 3: Movie Recommendations from Clusters**\n",
    "\n",
    "In this project, I have used the following datasets:\n",
    "1. movies.csv\n",
    "2. ratings.csv\n",
    "3. tags.csv\n",
    "\n",
    "I have used sentiment analysis on the tags dataset and combined the three datasets. Using the combined dataset, I have applied K-Means Clustering to create a recommendation cluster based on already watched movie."
   ]
  },
  {
   "cell_type": "code",
   "execution_count": 129,
   "metadata": {
    "id": "a3mbcQ_scSLV"
   },
   "outputs": [],
   "source": [
    "import numpy as np\n",
    "import pandas as pd\n",
    "import re\n",
    "\n",
    "from collections import Counter\n",
    "\n",
    "# Scikit-learn\n",
    "from sklearn.preprocessing import MultiLabelBinarizer\n",
    "from sklearn.cluster import KMeans\n",
    "\n",
    "# Plotting\n",
    "import matplotlib.pyplot as plt\n",
    "%matplotlib inline\n",
    "\n",
    "# Sentiment analysis\n",
    "from textblob import TextBlob"
   ]
  },
  {
   "cell_type": "markdown",
   "metadata": {
    "id": "HDYMAQBmEkT8"
   },
   "source": [
    "### 1. Reading Datasets"
   ]
  },
  {
   "cell_type": "code",
   "execution_count": 130,
   "metadata": {
    "id": "6pZ9ImUqcSLb"
   },
   "outputs": [],
   "source": [
    "movies = pd.read_csv(\"../data/movies.csv\")\n",
    "ratings = pd.read_csv(\"../data/ratings.csv\")\n",
    "tags = pd.read_csv(\"../data/tags.csv\")"
   ]
  },
  {
   "cell_type": "markdown",
   "metadata": {
    "id": "DDfqs_E4Ep0i"
   },
   "source": [
    "### 2. Preprocessing Movies"
   ]
  },
  {
   "cell_type": "code",
   "execution_count": 131,
   "metadata": {
    "id": "fbS_Ym7ucSLg"
   },
   "outputs": [],
   "source": [
    "movies['genres'] = movies['genres'].apply(lambda genre: genre.split('|'))"
   ]
  },
  {
   "cell_type": "code",
   "execution_count": 132,
   "metadata": {
    "colab": {
     "base_uri": "https://localhost:8080/",
     "height": 481
    },
    "id": "UjXLrmKPcSLm",
    "outputId": "313d2075-e072-4f86-94c9-48a8f573b0fa"
   },
   "outputs": [
    {
     "data": {
      "text/html": [
       "<div>\n",
       "<style scoped>\n",
       "    .dataframe tbody tr th:only-of-type {\n",
       "        vertical-align: middle;\n",
       "    }\n",
       "\n",
       "    .dataframe tbody tr th {\n",
       "        vertical-align: top;\n",
       "    }\n",
       "\n",
       "    .dataframe thead th {\n",
       "        text-align: right;\n",
       "    }\n",
       "</style>\n",
       "<table border=\"1\" class=\"dataframe\">\n",
       "  <thead>\n",
       "    <tr style=\"text-align: right;\">\n",
       "      <th></th>\n",
       "      <th>movieId</th>\n",
       "      <th>title</th>\n",
       "      <th>genres</th>\n",
       "      <th>(no genres listed)</th>\n",
       "      <th>Action</th>\n",
       "      <th>Adventure</th>\n",
       "      <th>Animation</th>\n",
       "      <th>Children</th>\n",
       "      <th>Comedy</th>\n",
       "      <th>Crime</th>\n",
       "      <th>Documentary</th>\n",
       "      <th>Drama</th>\n",
       "      <th>Fantasy</th>\n",
       "      <th>Film-Noir</th>\n",
       "      <th>Horror</th>\n",
       "      <th>IMAX</th>\n",
       "      <th>Musical</th>\n",
       "      <th>Mystery</th>\n",
       "      <th>Romance</th>\n",
       "      <th>Sci-Fi</th>\n",
       "      <th>Thriller</th>\n",
       "      <th>War</th>\n",
       "      <th>Western</th>\n",
       "    </tr>\n",
       "  </thead>\n",
       "  <tbody>\n",
       "    <tr>\n",
       "      <th>0</th>\n",
       "      <td>1</td>\n",
       "      <td>Toy Story (1995)</td>\n",
       "      <td>[Adventure, Animation, Children, Comedy, Fantasy]</td>\n",
       "      <td>0</td>\n",
       "      <td>0</td>\n",
       "      <td>1</td>\n",
       "      <td>1</td>\n",
       "      <td>1</td>\n",
       "      <td>1</td>\n",
       "      <td>0</td>\n",
       "      <td>0</td>\n",
       "      <td>0</td>\n",
       "      <td>1</td>\n",
       "      <td>0</td>\n",
       "      <td>0</td>\n",
       "      <td>0</td>\n",
       "      <td>0</td>\n",
       "      <td>0</td>\n",
       "      <td>0</td>\n",
       "      <td>0</td>\n",
       "      <td>0</td>\n",
       "      <td>0</td>\n",
       "      <td>0</td>\n",
       "    </tr>\n",
       "    <tr>\n",
       "      <th>1</th>\n",
       "      <td>2</td>\n",
       "      <td>Jumanji (1995)</td>\n",
       "      <td>[Adventure, Children, Fantasy]</td>\n",
       "      <td>0</td>\n",
       "      <td>0</td>\n",
       "      <td>1</td>\n",
       "      <td>0</td>\n",
       "      <td>1</td>\n",
       "      <td>0</td>\n",
       "      <td>0</td>\n",
       "      <td>0</td>\n",
       "      <td>0</td>\n",
       "      <td>1</td>\n",
       "      <td>0</td>\n",
       "      <td>0</td>\n",
       "      <td>0</td>\n",
       "      <td>0</td>\n",
       "      <td>0</td>\n",
       "      <td>0</td>\n",
       "      <td>0</td>\n",
       "      <td>0</td>\n",
       "      <td>0</td>\n",
       "      <td>0</td>\n",
       "    </tr>\n",
       "    <tr>\n",
       "      <th>2</th>\n",
       "      <td>3</td>\n",
       "      <td>Grumpier Old Men (1995)</td>\n",
       "      <td>[Comedy, Romance]</td>\n",
       "      <td>0</td>\n",
       "      <td>0</td>\n",
       "      <td>0</td>\n",
       "      <td>0</td>\n",
       "      <td>0</td>\n",
       "      <td>1</td>\n",
       "      <td>0</td>\n",
       "      <td>0</td>\n",
       "      <td>0</td>\n",
       "      <td>0</td>\n",
       "      <td>0</td>\n",
       "      <td>0</td>\n",
       "      <td>0</td>\n",
       "      <td>0</td>\n",
       "      <td>0</td>\n",
       "      <td>1</td>\n",
       "      <td>0</td>\n",
       "      <td>0</td>\n",
       "      <td>0</td>\n",
       "      <td>0</td>\n",
       "    </tr>\n",
       "    <tr>\n",
       "      <th>3</th>\n",
       "      <td>4</td>\n",
       "      <td>Waiting to Exhale (1995)</td>\n",
       "      <td>[Comedy, Drama, Romance]</td>\n",
       "      <td>0</td>\n",
       "      <td>0</td>\n",
       "      <td>0</td>\n",
       "      <td>0</td>\n",
       "      <td>0</td>\n",
       "      <td>1</td>\n",
       "      <td>0</td>\n",
       "      <td>0</td>\n",
       "      <td>1</td>\n",
       "      <td>0</td>\n",
       "      <td>0</td>\n",
       "      <td>0</td>\n",
       "      <td>0</td>\n",
       "      <td>0</td>\n",
       "      <td>0</td>\n",
       "      <td>1</td>\n",
       "      <td>0</td>\n",
       "      <td>0</td>\n",
       "      <td>0</td>\n",
       "      <td>0</td>\n",
       "    </tr>\n",
       "    <tr>\n",
       "      <th>4</th>\n",
       "      <td>5</td>\n",
       "      <td>Father of the Bride Part II (1995)</td>\n",
       "      <td>[Comedy]</td>\n",
       "      <td>0</td>\n",
       "      <td>0</td>\n",
       "      <td>0</td>\n",
       "      <td>0</td>\n",
       "      <td>0</td>\n",
       "      <td>1</td>\n",
       "      <td>0</td>\n",
       "      <td>0</td>\n",
       "      <td>0</td>\n",
       "      <td>0</td>\n",
       "      <td>0</td>\n",
       "      <td>0</td>\n",
       "      <td>0</td>\n",
       "      <td>0</td>\n",
       "      <td>0</td>\n",
       "      <td>0</td>\n",
       "      <td>0</td>\n",
       "      <td>0</td>\n",
       "      <td>0</td>\n",
       "      <td>0</td>\n",
       "    </tr>\n",
       "  </tbody>\n",
       "</table>\n",
       "</div>"
      ],
      "text/plain": [
       "   movieId                               title  ... War  Western\n",
       "0        1                    Toy Story (1995)  ...   0        0\n",
       "1        2                      Jumanji (1995)  ...   0        0\n",
       "2        3             Grumpier Old Men (1995)  ...   0        0\n",
       "3        4            Waiting to Exhale (1995)  ...   0        0\n",
       "4        5  Father of the Bride Part II (1995)  ...   0        0\n",
       "\n",
       "[5 rows x 23 columns]"
      ]
     },
     "execution_count": 132,
     "metadata": {
      "tags": []
     },
     "output_type": "execute_result"
    }
   ],
   "source": [
    "mlb = MultiLabelBinarizer()\n",
    "\n",
    "movies = movies.join(pd.DataFrame(mlb.fit_transform(movies['genres']), columns=mlb.classes_))\n",
    "\n",
    "movies.head()"
   ]
  },
  {
   "cell_type": "markdown",
   "metadata": {
    "id": "BH_b0HFoExu2"
   },
   "source": [
    "### 3. Visualizing Rating Distribution"
   ]
  },
  {
   "cell_type": "code",
   "execution_count": 133,
   "metadata": {
    "colab": {
     "base_uri": "https://localhost:8080/",
     "height": 313
    },
    "id": "m2EOH0_McSLp",
    "outputId": "98fb03f6-040a-4136-d8d6-d95846f641a7"
   },
   "outputs": [
    {
     "data": {
      "text/plain": [
       "<BarContainer object of 9 artists>"
      ]
     },
     "execution_count": 133,
     "metadata": {
      "tags": []
     },
     "output_type": "execute_result"
    },
    {
     "data": {
      "image/png": "[encoded data removed]",
      "text/plain": [
       "<Figure size 432x288 with 1 Axes>"
      ]
     },
     "metadata": {
      "needs_background": "light",
      "tags": []
     },
     "output_type": "display_data"
    }
   ],
   "source": [
    "rating_array = ratings['rating'].to_numpy()\n",
    "\n",
    "hist, bin_edges = np.histogram(rating_array, bins=np.unique(rating_array))\n",
    "\n",
    "plt.xlabel(\"Rating\")\n",
    "plt.ylabel(\"Count\")\n",
    "plt.title(\"Rating Distribution\")\n",
    "plt.bar(bin_edges[1:], hist)"
   ]
  },
  {
   "cell_type": "markdown",
   "metadata": {
    "id": "fg_yzXmWE2TP"
   },
   "source": [
    "### 4. Visualizing Genre Distribution"
   ]
  },
  {
   "cell_type": "code",
   "execution_count": 134,
   "metadata": {
    "colab": {
     "base_uri": "https://localhost:8080/",
     "height": 377
    },
    "id": "1XFq8cRocSLr",
    "outputId": "32398119-2435-4bbf-9c59-3bae973fdad7"
   },
   "outputs": [
    {
     "data": {
      "text/plain": [
       "<matplotlib.axes._subplots.AxesSubplot at 0x7f44ddc240f0>"
      ]
     },
     "execution_count": 134,
     "metadata": {
      "tags": []
     },
     "output_type": "execute_result"
    },
    {
     "data": {
      "image/png": "[encoded data removed]",
      "text/plain": [
       "<Figure size 432x288 with 1 Axes>"
      ]
     },
     "metadata": {
      "needs_background": "light",
      "tags": []
     },
     "output_type": "display_data"
    }
   ],
   "source": [
    "movie_genre = '|'.join(movies['genres'].apply(lambda genre: '|'.join(genre)))\n",
    "movie_genre = np.array(movie_genre.split('|'))\n",
    "\n",
    "movie_genre = Counter(movie_genre)\n",
    "\n",
    "movie_genre = pd.DataFrame.from_dict(movie_genre, orient='index')\n",
    "\n",
    "movie_genre.plot(kind='bar', title='Genre Distribution')"
   ]
  },
  {
   "cell_type": "markdown",
   "metadata": {
    "id": "-IEsByQQFGpq"
   },
   "source": [
    "### 5. Normalizing Tags dataset by concatenating tags for a specific movie"
   ]
  },
  {
   "cell_type": "code",
   "execution_count": 135,
   "metadata": {
    "colab": {
     "base_uri": "https://localhost:8080/",
     "height": 203
    },
    "id": "eOuTafWBcSLu",
    "outputId": "268c1efa-b06b-438f-b330-4ef823ebc71c"
   },
   "outputs": [
    {
     "data": {
      "text/html": [
       "<div>\n",
       "<style scoped>\n",
       "    .dataframe tbody tr th:only-of-type {\n",
       "        vertical-align: middle;\n",
       "    }\n",
       "\n",
       "    .dataframe tbody tr th {\n",
       "        vertical-align: top;\n",
       "    }\n",
       "\n",
       "    .dataframe thead th {\n",
       "        text-align: right;\n",
       "    }\n",
       "</style>\n",
       "<table border=\"1\" class=\"dataframe\">\n",
       "  <thead>\n",
       "    <tr style=\"text-align: right;\">\n",
       "      <th></th>\n",
       "      <th>userId</th>\n",
       "      <th>movieId</th>\n",
       "      <th>tag</th>\n",
       "    </tr>\n",
       "  </thead>\n",
       "  <tbody>\n",
       "    <tr>\n",
       "      <th>0</th>\n",
       "      <td>2</td>\n",
       "      <td>60756</td>\n",
       "      <td>funny Highly quotable will ferrell</td>\n",
       "    </tr>\n",
       "    <tr>\n",
       "      <th>1</th>\n",
       "      <td>2</td>\n",
       "      <td>89774</td>\n",
       "      <td>Boxing story MMA Tom Hardy</td>\n",
       "    </tr>\n",
       "    <tr>\n",
       "      <th>2</th>\n",
       "      <td>2</td>\n",
       "      <td>106782</td>\n",
       "      <td>drugs Leonardo DiCaprio Martin Scorsese</td>\n",
       "    </tr>\n",
       "    <tr>\n",
       "      <th>3</th>\n",
       "      <td>7</td>\n",
       "      <td>48516</td>\n",
       "      <td>way too long</td>\n",
       "    </tr>\n",
       "    <tr>\n",
       "      <th>4</th>\n",
       "      <td>18</td>\n",
       "      <td>431</td>\n",
       "      <td>Al Pacino gangster mafia</td>\n",
       "    </tr>\n",
       "  </tbody>\n",
       "</table>\n",
       "</div>"
      ],
      "text/plain": [
       "   userId  movieId                                      tag\n",
       "0       2    60756       funny Highly quotable will ferrell\n",
       "1       2    89774               Boxing story MMA Tom Hardy\n",
       "2       2   106782  drugs Leonardo DiCaprio Martin Scorsese\n",
       "3       7    48516                             way too long\n",
       "4      18      431                 Al Pacino gangster mafia"
      ]
     },
     "execution_count": 135,
     "metadata": {
      "tags": []
     },
     "output_type": "execute_result"
    }
   ],
   "source": [
    "if 'timestamp' in tags.columns:\n",
    "    tags.drop(['timestamp'], axis=1, inplace=True)\n",
    "\n",
    "merged_tags = tags.groupby(['userId', 'movieId'])['tag'].apply(' '.join).reset_index()\n",
    "\n",
    "merged_tags.head()"
   ]
  },
  {
   "cell_type": "markdown",
   "metadata": {
    "id": "BclR0mdtFP2E"
   },
   "source": [
    "### 6. Sentiment Analysis of Tags"
   ]
  },
  {
   "cell_type": "code",
   "execution_count": 136,
   "metadata": {
    "id": "wd2AFiotcSL4"
   },
   "outputs": [],
   "source": [
    "def getTagSentiment(frame):   \n",
    "    blob = TextBlob(frame['tag'])\n",
    "    frame['tag_sentiment'] = blob.sentiment.polarity\n",
    "    \n",
    "    return frame"
   ]
  },
  {
   "cell_type": "code",
   "execution_count": 137,
   "metadata": {
    "id": "G9g84H6NcSL9"
   },
   "outputs": [],
   "source": [
    "merged_tags = merged_tags.apply(getTagSentiment, axis=1)"
   ]
  },
  {
   "cell_type": "markdown",
   "metadata": {
    "id": "-situmSeFUUd"
   },
   "source": [
    "### 7. Merging ratings and tags datasets into review_frame"
   ]
  },
  {
   "cell_type": "code",
   "execution_count": 138,
   "metadata": {
    "id": "2xuFvLRqcSLy"
   },
   "outputs": [],
   "source": [
    "review_frame = ratings.merge(merged_tags, how='outer', on=['userId', 'movieId'])"
   ]
  },
  {
   "cell_type": "markdown",
   "metadata": {
    "id": "iXsiuSGOF8Ar"
   },
   "source": [
    "### 8. Imputing review_frame"
   ]
  },
  {
   "cell_type": "code",
   "execution_count": 139,
   "metadata": {
    "id": "AIIVBhd5eylc"
   },
   "outputs": [],
   "source": [
    "review_frame['rating'].fillna(review_frame['rating'].mean(), inplace=True)\n",
    "review_frame['timestamp'].fillna(review_frame['timestamp'].mean(), inplace=True)\n",
    "review_frame['tag'].fillna('', inplace=True)\n",
    "review_frame['tag_sentiment'].fillna(0, inplace=True)"
   ]
  },
  {
   "cell_type": "markdown",
   "metadata": {
    "id": "yIarhpD2GI8o"
   },
   "source": [
    "### 9. Merging movies dataset with review_frame"
   ]
  },
  {
   "cell_type": "code",
   "execution_count": 141,
   "metadata": {
    "id": "sp-WqAkLcSMI"
   },
   "outputs": [],
   "source": [
    "data = movies.merge(review_frame, on=['movieId'], how='inner')"
   ]
  },
  {
   "cell_type": "markdown",
   "metadata": {
    "id": "ZvXCkZUIGNhW"
   },
   "source": [
    "### 10. Dropping unnecessary columns to reduce redundancy in the merged dataset"
   ]
  },
  {
   "cell_type": "code",
   "execution_count": 142,
   "metadata": {
    "id": "pjdiUpVccSML"
   },
   "outputs": [],
   "source": [
    "if set(['tag', 'title', 'genres']).issubset(set(data.columns)):\n",
    "    data.drop(['tag', 'title', 'genres'], axis=1, inplace=True)"
   ]
  },
  {
   "cell_type": "markdown",
   "metadata": {
    "id": "IZbmQeYqGVk8"
   },
   "source": [
    "### 11. K-Means Clustering"
   ]
  },
  {
   "cell_type": "code",
   "execution_count": 211,
   "metadata": {
    "colab": {
     "base_uri": "https://localhost:8080/",
     "height": 70
    },
    "id": "zZu2SXFvcSMO",
    "outputId": "931d208a-88cf-4aa1-9427-063773d2b7e2"
   },
   "outputs": [
    {
     "data": {
      "text/plain": [
       "KMeans(algorithm='auto', copy_x=True, init='k-means++', max_iter=300,\n",
       "       n_clusters=1000, n_init=10, n_jobs=None, precompute_distances='auto',\n",
       "       random_state=0, tol=0.0001, verbose=0)"
      ]
     },
     "execution_count": 211,
     "metadata": {
      "tags": []
     },
     "output_type": "execute_result"
    }
   ],
   "source": [
    "kmeans = KMeans(n_clusters=1000, n_init=20, random_state=0)\n",
    "kmeans.fit(data)"
   ]
  },
  {
   "cell_type": "code",
   "execution_count": 225,
   "metadata": {
    "id": "ILOdbb4Ukoem"
   },
   "outputs": [],
   "source": [
    "cluster_frame = pd.DataFrame(data=kmeans.labels_, columns=['cluster'], index=data.index)"
   ]
  },
  {
   "cell_type": "markdown",
   "metadata": {
    "id": "YhCRF0-YGaNl"
   },
   "source": [
    "### 12. Recommended Movies"
   ]
  },
  {
   "cell_type": "code",
   "execution_count": 234,
   "metadata": {
    "colab": {
     "base_uri": "https://localhost:8080/",
     "height": 334
    },
    "id": "Fagm8UkAlPCz",
    "outputId": "0e3e99df-53e7-4501-ed32-65595901c58f"
   },
   "outputs": [
    {
     "name": "stdout",
     "output_type": "stream",
     "text": [
      "Already watched: \n",
      " 0    Toy Story (1995)\n",
      "Name: title, dtype: object \n",
      "\n",
      "\n",
      "Recommended: \n",
      " 2                         Grumpier Old Men (1995)\n",
      "3                        Waiting to Exhale (1995)\n",
      "4              Father of the Bride Part II (1995)\n",
      "5                                     Heat (1995)\n",
      "6                                  Sabrina (1995)\n",
      "                          ...                    \n",
      "811                               Sleepers (1996)\n",
      "812        Aladdin and the King of Thieves (1996)\n",
      "815    Willy Wonka & the Chocolate Factory (1971)\n",
      "822                         Candidate, The (1972)\n",
      "824                       Bonnie and Clyde (1967)\n",
      "Name: title, Length: 317, dtype: object\n"
     ]
    }
   ],
   "source": [
    "watched_movie = data[data['movieId']==2].iloc[0]\n",
    "\n",
    "predicted_cluster = kmeans.predict([watched_movie])\n",
    "\n",
    "recommended_movie_ids = np.unique(data[cluster_frame['cluster'] == predicted_cluster[0]]['movieId'])\n",
    "recommended_movie_ids = np.delete(recommended_movie_ids, np.where(recommended_movie_ids==watched_movie['movieId']))\n",
    "\n",
    "recommended_movies = movies[movies['movieId'].isin(recommended_movie_ids)]['title']\n",
    "\n",
    "print(\"Already watched: \\n\",movies[movies['movieId']==data.iloc[0]['movieId']]['title'], '\\n\\n')\n",
    "print(\"Recommended: \\n\", recommended_movies)"
   ]
  },
  {
   "cell_type": "markdown",
   "metadata": {
    "id": "5OqTOv5xGyLa"
   },
   "source": [
    "### 13. Analysis\n",
    "\n",
    "After trying different values for the number of clusters, I have come to realize that the fewer clusters we have, the more number of movies are recommended. At that point, it becomes highly likely that we might end up with bad recommendations towards the end. However, for any number of recommendations, we should be able to sort the first n number of recommendations according to our desire."
   ]
  }
 ],
 "metadata": {
  "colab": {
   "name": "Project3.ipynb",
   "provenance": []
  },
  "kernelspec": {
   "display_name": "Python 3",
   "language": "python",
   "name": "python3"
  },
  "language_info": {
   "codemirror_mode": {
    "name": "ipython",
    "version": 3
   },
   "file_extension": ".py",
   "mimetype": "text/x-python",
   "name": "python",
   "nbconvert_exporter": "python",
   "pygments_lexer": "ipython3",
   "version": "3.7.6"
  }
 },
 "nbformat": 4,
 "nbformat_minor": 4
}
